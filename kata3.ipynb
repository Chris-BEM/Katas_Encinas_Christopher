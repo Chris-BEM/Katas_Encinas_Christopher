{
 "cells": [
  {
   "cell_type": "code",
   "execution_count": 9,
   "metadata": {},
   "outputs": [
    {
     "name": "stdout",
     "output_type": "stream",
     "text": [
      "¡Advertencia! El asteroide viaja a una velocidad mayor a 25 km/s\n"
     ]
    }
   ],
   "source": [
    "asteroid = 49\n",
    "\n",
    "if (asteroid > 25):\n",
    "    print(\"¡Advertencia! El asteroide viaja a una velocidad mayor a 25 km/s\")\n",
    "else:\n",
    "    print(\"Ningun avistamiento que reportar\")\n",
    "\n",
    "\n"
   ]
  },
  {
   "cell_type": "code",
   "execution_count": 21,
   "metadata": {},
   "outputs": [
    {
     "name": "stdout",
     "output_type": "stream",
     "text": [
      "Ningun avistamiento que reportar\n"
     ]
    }
   ],
   "source": [
    "asteroid = 19\n",
    "\n",
    "if (asteroid > 20):\n",
    "    print(\"¡Avistamiento! Hay una luz en el cielo\")\n",
    "elif (asteroid == 20):\n",
    "    print(\"¡Avistamiento! Hay una luz en el cielo\")\n",
    "else:\n",
    "    print(\"Ningun avistamiento que reportar\")\n",
    "\n"
   ]
  },
  {
   "cell_type": "code",
   "execution_count": 22,
   "metadata": {},
   "outputs": [
    {
     "name": "stdout",
     "output_type": "stream",
     "text": [
      "¡Avistamiento! Hay una luz en el cielo\n"
     ]
    }
   ],
   "source": [
    "asteroidSize = 25\n",
    "asteroidSpeed = 20\n",
    "\n",
    "if (asteroidSpeed > 20 and asteroidSize > 25):\n",
    "    print(\"¡Advertencia! Hay un asteroide que se aproxima a la tierra\")\n",
    "elif (asteroidSpeed >= 20):\n",
    "    print(\"¡Avistamiento! Hay una luz en el cielo\")\n",
    "elif (asteroidSize < 25):\n",
    "    print(\"Ningun avistamiento que reportar\")\n",
    "else:\n",
    "    print(\"Ningun avistamiento que reportar\")"
   ]
  }
 ],
 "metadata": {
  "interpreter": {
   "hash": "a74e0ebcc702a6d84e0cecad7e03684ee83467a6ec1e3da57b17dd437d42695a"
  },
  "kernelspec": {
   "display_name": "Python 3.10.2 64-bit",
   "language": "python",
   "name": "python3"
  },
  "language_info": {
   "codemirror_mode": {
    "name": "ipython",
    "version": 3
   },
   "file_extension": ".py",
   "mimetype": "text/x-python",
   "name": "python",
   "nbconvert_exporter": "python",
   "pygments_lexer": "ipython3",
   "version": "3.10.2"
  },
  "orig_nbformat": 4
 },
 "nbformat": 4,
 "nbformat_minor": 2
}
