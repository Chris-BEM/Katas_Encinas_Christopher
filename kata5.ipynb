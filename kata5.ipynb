{
 "cells": [
  {
   "cell_type": "code",
   "execution_count": 3,
   "metadata": {},
   "outputs": [
    {
     "name": "stdout",
     "output_type": "stream",
     "text": [
      "La distancia es de: 628949330\n",
      "La distancia es de: 390577533.93\n"
     ]
    }
   ],
   "source": [
    "firstPlanet = 149597870\n",
    "secondPlanet = 778547200\n",
    "\n",
    "distanceKm = secondPlanet - firstPlanet\n",
    "print(\"La distancia es de:\", distanceKm)\n",
    "\n",
    "distanceMi = distanceKm * 0.621\n",
    "print(\"La distancia es de:\", distanceMi)"
   ]
  },
  {
   "cell_type": "code",
   "execution_count": 8,
   "metadata": {},
   "outputs": [
    {
     "name": "stdout",
     "output_type": "stream",
     "text": [
      "Valor absoluto 44\n",
      "Distancia 27.323999999999998\n"
     ]
    }
   ],
   "source": [
    "firstPlanet = input('Introduzca la distancia del sol para el primer planeta en KM')\n",
    "secondPlanet = input('Introduzca la distancia desde el sol para el segundo planeta en KM')\n",
    "\n",
    "firstPlanet = int(firstPlanet)\n",
    "secondPlanet = int(secondPlanet)\n",
    "\n",
    "distanceKm = secondPlanet - firstPlanet\n",
    "print(\"Valor absoluto:\", distanceKm)\n",
    "distanceMi = distanceKm * 0.621\n",
    "print(\"Distancia:\", abs(distanceMi))"
   ]
  }
 ],
 "metadata": {
  "interpreter": {
   "hash": "a74e0ebcc702a6d84e0cecad7e03684ee83467a6ec1e3da57b17dd437d42695a"
  },
  "kernelspec": {
   "display_name": "Python 3.10.2 64-bit",
   "language": "python",
   "name": "python3"
  },
  "language_info": {
   "codemirror_mode": {
    "name": "ipython",
    "version": 3
   },
   "file_extension": ".py",
   "mimetype": "text/x-python",
   "name": "python",
   "nbconvert_exporter": "python",
   "pygments_lexer": "ipython3",
   "version": "3.10.2"
  },
  "orig_nbformat": 4
 },
 "nbformat": 4,
 "nbformat_minor": 2
}
