{
 "cells": [
  {
   "cell_type": "code",
   "execution_count": 2,
   "metadata": {},
   "outputs": [
    {
     "name": "stdout",
     "output_type": "stream",
     "text": [
      "Reporte de combustible:\n",
      "    Promedio total: 78.33333333333333%\n",
      "    Tanque principal: 80%\n",
      "    Tanque externo: 70%\n",
      "    Tanque de hidrogeno: 85% \n",
      "    \n",
      "Reporte de combustible:\n",
      "    Promedio total: 78.0%\n",
      "    Tanque principal: 88%\n",
      "    Tanque externo: 76%\n",
      "    Tanque de hidrogeno: 70% \n",
      "    \n"
     ]
    }
   ],
   "source": [
    "def generate_report(main_tank, external_tank, hydrogen_tank):\n",
    "    total_average = (main_tank + external_tank + hydrogen_tank) / 3\n",
    "    return f\"\"\"Reporte de combustible:\n",
    "    Promedio total: {total_average}%\n",
    "    Tanque principal: {main_tank}%\n",
    "    Tanque externo: {external_tank}%\n",
    "    Tanque de hidrogeno: {hydrogen_tank}% \n",
    "    \"\"\"\n",
    "print(generate_report(80, 70, 85))\n",
    "\n",
    "def average(values):\n",
    "    total = sum(values)\n",
    "    number_of_items = len(values)\n",
    "    return total / number_of_items\n",
    "average([80, 85, 81]) \n",
    "\n",
    "def generate_report(main_tank, external_tank, hydrogen_tank):\n",
    "    return f\"\"\"Reporte de combustible:\n",
    "    Promedio total: {average([main_tank, external_tank, hydrogen_tank])}%\n",
    "    Tanque principal: {main_tank}%\n",
    "    Tanque externo: {external_tank}%\n",
    "    Tanque de hidrogeno: {hydrogen_tank}% \n",
    "    \"\"\"\n",
    "print(generate_report(88, 76, 70))\n",
    "\n"
   ]
  },
  {
   "cell_type": "code",
   "execution_count": 12,
   "metadata": {},
   "outputs": [
    {
     "name": "stdout",
     "output_type": "stream",
     "text": [
      "\n",
      "    Mision a Moon\n",
      "    Tiempo total del viaje: 65 minutes\n",
      "    Combustible restante: 500000 gallons\n",
      "    \n",
      "\n",
      "    Mision a Moon\n",
      "    Tiempo total del viaje: 76 minutes\n",
      "    Combustible restante: 500000\n",
      "    \n",
      "\n",
      "    Mision a Moon\n",
      "    Tiempo total del viaje: 74 minutes\n",
      "    Combustible restante: 500000\n",
      "    tanque principal --> 300000 galones restantes\n",
      "tanque externo --> 200000 galones restantes\n",
      "\n"
     ]
    }
   ],
   "source": [
    "def mission_report(pre_launch_time, flight_time, destination, external_tank, main_tank):\n",
    "    return f\"\"\"\n",
    "    Mision a {destination}\n",
    "    Tiempo total del viaje: {pre_launch_time + flight_time} minutes\n",
    "    Combustible restante: {external_tank + main_tank} gallons\n",
    "    \"\"\"\n",
    "\n",
    "print(mission_report(14, 51, \"Moon\", 200000, 300000))\n",
    "\n",
    "def mission_report(destination, *minutes, **fuel_reservoirs):\n",
    "    return f\"\"\"\n",
    "    Mision a {destination}\n",
    "    Tiempo total del viaje: {sum(minutes)} minutes\n",
    "    Combustible restante: {sum(fuel_reservoirs.values())}\n",
    "    \"\"\"\n",
    "\n",
    "print(mission_report(\"Moon\", 10, 15, 51, main=300000, external=200000))\n",
    "\n",
    "def mission_report(destination, *minutes, **fuel_reservoirs):\n",
    "    main_report = f\"\"\"\n",
    "    Mision a {destination}\n",
    "    Tiempo total del viaje: {sum(minutes)} minutes\n",
    "    Combustible restante: {sum(fuel_reservoirs.values())}\n",
    "    \"\"\"\n",
    "    for tank_name, gallons in fuel_reservoirs.items():\n",
    "        main_report += f\"tanque {tank_name} --> {gallons} galones restantes\\n\"\n",
    "    return main_report\n",
    "\n",
    "print(mission_report(\"Moon\", 8, 11, 55, principal=300000, externo=200000))"
   ]
  }
 ],
 "metadata": {
  "interpreter": {
   "hash": "a74e0ebcc702a6d84e0cecad7e03684ee83467a6ec1e3da57b17dd437d42695a"
  },
  "kernelspec": {
   "display_name": "Python 3.10.2 64-bit",
   "language": "python",
   "name": "python3"
  },
  "language_info": {
   "codemirror_mode": {
    "name": "ipython",
    "version": 3
   },
   "file_extension": ".py",
   "mimetype": "text/x-python",
   "name": "python",
   "nbconvert_exporter": "python",
   "pygments_lexer": "ipython3",
   "version": "3.10.2"
  },
  "orig_nbformat": 4
 },
 "nbformat": 4,
 "nbformat_minor": 2
}
